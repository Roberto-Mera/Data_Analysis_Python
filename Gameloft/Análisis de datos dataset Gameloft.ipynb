{
 "cells": [
  {
   "cell_type": "markdown",
   "id": "e045001e",
   "metadata": {
    "id": "TkUrwR0b87qE",
    "papermill": {
     "duration": 0.013816,
     "end_time": "2022-12-08T06:08:16.543339",
     "exception": false,
     "start_time": "2022-12-08T06:08:16.529523",
     "status": "completed"
    },
    "tags": []
   },
   "source": [
    "# **Información del dataset**\n",
    "\n",
    "El dataset contiene información sobre los juegos desarrollados por Gameloft SE hasta Mayo del 2022"
   ]
  },
  {
   "cell_type": "markdown",
   "id": "0420592e",
   "metadata": {
    "id": "5aBcbuf9_JRL",
    "papermill": {
     "duration": 0.01367,
     "end_time": "2022-12-08T06:08:16.570056",
     "exception": false,
     "start_time": "2022-12-08T06:08:16.556386",
     "status": "completed"
    },
    "tags": []
   },
   "source": [
    "**Columnas**\n",
    "\n",
    "\n",
    "\n",
    "*   Title: Nombre del juego en la Play Store.\n",
    "*   Summary: Breve resumen sobre el juego.\n",
    "*   Installs: Número de instalaciones.\n",
    "*   Score: Puntuación promedio hasta 5.\n",
    "*   Ratings: Número total de puntuaciones.\n",
    "*   Reviews: Número total de reseñas dadas.\n",
    "*   Size: Tamaño del juego.\n",
    "*   AndroidVersion: Versión más antigua de Android con la que es compatible.\n",
    "*   GenreId: Género del juego.\n",
    "*   ContentRating: Clasificación del contenido del juego\n",
    "*   Released: Fecha de lanzamiento.\n",
    "*   Update: Última fecha de actualización.\n",
    "*   Version: Versión actual del juego.\n",
    "*   AppId: Identificación de la aplicación para Play Store.\n",
    "\n"
   ]
  },
  {
   "cell_type": "markdown",
   "id": "3a23ff40",
   "metadata": {
    "id": "7RqWJPW3x6Ie",
    "papermill": {
     "duration": 0.011658,
     "end_time": "2022-12-08T06:08:16.593672",
     "exception": false,
     "start_time": "2022-12-08T06:08:16.582014",
     "status": "completed"
    },
    "tags": []
   },
   "source": [
    "**Preguntas**\n",
    "\n",
    "1. ¿Qué juegos son los más instalados?\n",
    "2. ¿Qué juego es el de mayor puntuación?\n",
    "3. ¿Cuántos juegos fueron lanzados en el año 2021?\n",
    "4. ¿En que año hubo más lanzamientos?\n",
    "5. ¿Qué género es el más instalado?\n",
    "6. ¿Qué nivel de clasificación es el más instalado?"
   ]
  },
  {
   "cell_type": "markdown",
   "id": "1308dc9c",
   "metadata": {
    "id": "vf8MUgNH-_dT",
    "papermill": {
     "duration": 0.012226,
     "end_time": "2022-12-08T06:08:16.617896",
     "exception": false,
     "start_time": "2022-12-08T06:08:16.605670",
     "status": "completed"
    },
    "tags": []
   },
   "source": [
    "#  **Importar de Librerías**"
   ]
  },
  {
   "cell_type": "code",
   "execution_count": 1,
   "id": "cfe43863",
   "metadata": {
    "execution": {
     "iopub.execute_input": "2022-12-08T06:08:16.644711Z",
     "iopub.status.busy": "2022-12-08T06:08:16.643712Z",
     "iopub.status.idle": "2022-12-08T06:08:17.636565Z",
     "shell.execute_reply": "2022-12-08T06:08:17.635126Z"
    },
    "id": "Jd1DHVmY6pzB",
    "papermill": {
     "duration": 1.010035,
     "end_time": "2022-12-08T06:08:17.639935",
     "exception": false,
     "start_time": "2022-12-08T06:08:16.629900",
     "status": "completed"
    },
    "tags": []
   },
   "outputs": [],
   "source": [
    "#Importacion de librerias\n",
    "\n",
    "#Procesamiento\n",
    "import pandas as pd\n",
    "import numpy as np\n",
    "import datetime as dt\n",
    "import missingno as msno\n",
    "\n",
    "#Visualización\n",
    "import matplotlib.pyplot as plt\n",
    "from matplotlib import cm\n",
    "from matplotlib import colors\n",
    "import seaborn as sns\n",
    "import plotly.graph_objects as go"
   ]
  },
  {
   "cell_type": "code",
   "execution_count": 2,
   "id": "78887d0b",
   "metadata": {
    "execution": {
     "iopub.execute_input": "2022-12-08T06:08:17.668215Z",
     "iopub.status.busy": "2022-12-08T06:08:17.666920Z",
     "iopub.status.idle": "2022-12-08T06:08:17.688663Z",
     "shell.execute_reply": "2022-12-08T06:08:17.687574Z"
    },
    "id": "PwzHI87H8vI_",
    "papermill": {
     "duration": 0.038193,
     "end_time": "2022-12-08T06:08:17.691334",
     "exception": false,
     "start_time": "2022-12-08T06:08:17.653141",
     "status": "completed"
    },
    "tags": []
   },
   "outputs": [],
   "source": [
    "juegos=pd.read_csv('/kaggle/input/gameloft-android-games-collection-2022/data.csv',encoding = 'ISO-8859-1')"
   ]
  },
  {
   "cell_type": "code",
   "execution_count": 3,
   "id": "fbb979fe",
   "metadata": {
    "execution": {
     "iopub.execute_input": "2022-12-08T06:08:17.722436Z",
     "iopub.status.busy": "2022-12-08T06:08:17.721818Z",
     "iopub.status.idle": "2022-12-08T06:08:17.751150Z",
     "shell.execute_reply": "2022-12-08T06:08:17.749907Z"
    },
    "id": "G0tqpwcn82XM",
    "outputId": "7b220ab4-ab8c-4222-e7c7-2d2cced96271",
    "papermill": {
     "duration": 0.046683,
     "end_time": "2022-12-08T06:08:17.753652",
     "exception": false,
     "start_time": "2022-12-08T06:08:17.706969",
     "status": "completed"
    },
    "tags": []
   },
   "outputs": [
    {
     "data": {
      "text/html": [
       "<div>\n",
       "<style scoped>\n",
       "    .dataframe tbody tr th:only-of-type {\n",
       "        vertical-align: middle;\n",
       "    }\n",
       "\n",
       "    .dataframe tbody tr th {\n",
       "        vertical-align: top;\n",
       "    }\n",
       "\n",
       "    .dataframe thead th {\n",
       "        text-align: right;\n",
       "    }\n",
       "</style>\n",
       "<table border=\"1\" class=\"dataframe\">\n",
       "  <thead>\n",
       "    <tr style=\"text-align: right;\">\n",
       "      <th></th>\n",
       "      <th>title</th>\n",
       "      <th>summary</th>\n",
       "      <th>installs</th>\n",
       "      <th>score</th>\n",
       "      <th>ratings</th>\n",
       "      <th>reviews</th>\n",
       "      <th>size</th>\n",
       "      <th>androidVersion</th>\n",
       "      <th>genreId</th>\n",
       "      <th>contentRating</th>\n",
       "      <th>released</th>\n",
       "      <th>updated</th>\n",
       "      <th>version</th>\n",
       "      <th>appId</th>\n",
       "    </tr>\n",
       "  </thead>\n",
       "  <tbody>\n",
       "    <tr>\n",
       "      <th>0</th>\n",
       "      <td>Asphalt 8 - Car Racing Game</td>\n",
       "      <td>Racing multiplayer online game. Drive cars and...</td>\n",
       "      <td>100000000</td>\n",
       "      <td>4.474443</td>\n",
       "      <td>10191799</td>\n",
       "      <td>280041</td>\n",
       "      <td>177M</td>\n",
       "      <td>5.0</td>\n",
       "      <td>RACING</td>\n",
       "      <td>Everyone 10+</td>\n",
       "      <td>2013-08-20</td>\n",
       "      <td>2022-04-18</td>\n",
       "      <td>6.2.3b</td>\n",
       "      <td>com.gameloft.android.ANMP.GloftA8HM</td>\n",
       "    </tr>\n",
       "    <tr>\n",
       "      <th>1</th>\n",
       "      <td>Asphalt Nitro</td>\n",
       "      <td>Car racing game with luxury licensed brands</td>\n",
       "      <td>100000000</td>\n",
       "      <td>4.285882</td>\n",
       "      <td>1743070</td>\n",
       "      <td>16204</td>\n",
       "      <td>46M</td>\n",
       "      <td>4.1</td>\n",
       "      <td>RACING</td>\n",
       "      <td>Everyone</td>\n",
       "      <td>2015-11-05</td>\n",
       "      <td>2022-03-21</td>\n",
       "      <td>1.7.5a</td>\n",
       "      <td>com.gameloft.android.ANMP.GloftAGHM</td>\n",
       "    </tr>\n",
       "    <tr>\n",
       "      <th>2</th>\n",
       "      <td>Asphalt 9: Legends</td>\n",
       "      <td>Online multiplayer street auto racing game wit...</td>\n",
       "      <td>50000000</td>\n",
       "      <td>4.471972</td>\n",
       "      <td>2443874</td>\n",
       "      <td>61954</td>\n",
       "      <td>Varies with device</td>\n",
       "      <td>7.0</td>\n",
       "      <td>RACING</td>\n",
       "      <td>Everyone 10+</td>\n",
       "      <td>2018-07-25</td>\n",
       "      <td>2022-04-28</td>\n",
       "      <td>3.4.5a</td>\n",
       "      <td>com.gameloft.android.ANMP.GloftA9HM</td>\n",
       "    </tr>\n",
       "    <tr>\n",
       "      <th>3</th>\n",
       "      <td>Real Football</td>\n",
       "      <td>Experience soccer both on and off the pitch wi...</td>\n",
       "      <td>50000000</td>\n",
       "      <td>3.766698</td>\n",
       "      <td>970452</td>\n",
       "      <td>4662</td>\n",
       "      <td>31M</td>\n",
       "      <td>4.4</td>\n",
       "      <td>SPORTS</td>\n",
       "      <td>Everyone 10+</td>\n",
       "      <td>2016-09-29</td>\n",
       "      <td>2021-08-24</td>\n",
       "      <td>1.7.2</td>\n",
       "      <td>com.gameloft.android.ANMP.GloftR7HM</td>\n",
       "    </tr>\n",
       "    <tr>\n",
       "      <th>4</th>\n",
       "      <td>Sniper Fury: Shooting Game</td>\n",
       "      <td>A 3D sniping game to hunt elite hitmen and sho...</td>\n",
       "      <td>50000000</td>\n",
       "      <td>4.324803</td>\n",
       "      <td>1025668</td>\n",
       "      <td>20414</td>\n",
       "      <td>71M</td>\n",
       "      <td>5.0</td>\n",
       "      <td>ACTION</td>\n",
       "      <td>Mature 17+</td>\n",
       "      <td>2015-12-02</td>\n",
       "      <td>2022-02-02</td>\n",
       "      <td>6.2.2a</td>\n",
       "      <td>com.gameloft.android.ANMP.GloftFWHM</td>\n",
       "    </tr>\n",
       "  </tbody>\n",
       "</table>\n",
       "</div>"
      ],
      "text/plain": [
       "                         title  \\\n",
       "0  Asphalt 8 - Car Racing Game   \n",
       "1                Asphalt Nitro   \n",
       "2           Asphalt 9: Legends   \n",
       "3                Real Football   \n",
       "4   Sniper Fury: Shooting Game   \n",
       "\n",
       "                                             summary   installs     score  \\\n",
       "0  Racing multiplayer online game. Drive cars and...  100000000  4.474443   \n",
       "1        Car racing game with luxury licensed brands  100000000  4.285882   \n",
       "2  Online multiplayer street auto racing game wit...   50000000  4.471972   \n",
       "3  Experience soccer both on and off the pitch wi...   50000000  3.766698   \n",
       "4  A 3D sniping game to hunt elite hitmen and sho...   50000000  4.324803   \n",
       "\n",
       "    ratings  reviews                size androidVersion genreId contentRating  \\\n",
       "0  10191799   280041                177M            5.0  RACING  Everyone 10+   \n",
       "1   1743070    16204                 46M            4.1  RACING      Everyone   \n",
       "2   2443874    61954  Varies with device            7.0  RACING  Everyone 10+   \n",
       "3    970452     4662                 31M            4.4  SPORTS  Everyone 10+   \n",
       "4   1025668    20414                 71M            5.0  ACTION    Mature 17+   \n",
       "\n",
       "     released     updated version                                appId  \n",
       "0  2013-08-20  2022-04-18  6.2.3b  com.gameloft.android.ANMP.GloftA8HM  \n",
       "1  2015-11-05  2022-03-21  1.7.5a  com.gameloft.android.ANMP.GloftAGHM  \n",
       "2  2018-07-25  2022-04-28  3.4.5a  com.gameloft.android.ANMP.GloftA9HM  \n",
       "3  2016-09-29  2021-08-24   1.7.2  com.gameloft.android.ANMP.GloftR7HM  \n",
       "4  2015-12-02  2022-02-02  6.2.2a  com.gameloft.android.ANMP.GloftFWHM  "
      ]
     },
     "execution_count": 3,
     "metadata": {},
     "output_type": "execute_result"
    }
   ],
   "source": [
    "juegos.head()"
   ]
  },
  {
   "cell_type": "code",
   "execution_count": 4,
   "id": "b733b799",
   "metadata": {
    "execution": {
     "iopub.execute_input": "2022-12-08T06:08:17.781726Z",
     "iopub.status.busy": "2022-12-08T06:08:17.781012Z",
     "iopub.status.idle": "2022-12-08T06:08:17.800043Z",
     "shell.execute_reply": "2022-12-08T06:08:17.797820Z"
    },
    "id": "SrONZaUVCnem",
    "outputId": "d4cbc859-a56c-43ca-aeb9-83dc7b4bfc5b",
    "papermill": {
     "duration": 0.036712,
     "end_time": "2022-12-08T06:08:17.803324",
     "exception": false,
     "start_time": "2022-12-08T06:08:17.766612",
     "status": "completed"
    },
    "tags": []
   },
   "outputs": [
    {
     "data": {
      "text/html": [
       "<div>\n",
       "<style scoped>\n",
       "    .dataframe tbody tr th:only-of-type {\n",
       "        vertical-align: middle;\n",
       "    }\n",
       "\n",
       "    .dataframe tbody tr th {\n",
       "        vertical-align: top;\n",
       "    }\n",
       "\n",
       "    .dataframe thead th {\n",
       "        text-align: right;\n",
       "    }\n",
       "</style>\n",
       "<table border=\"1\" class=\"dataframe\">\n",
       "  <thead>\n",
       "    <tr style=\"text-align: right;\">\n",
       "      <th></th>\n",
       "      <th>title</th>\n",
       "      <th>summary</th>\n",
       "      <th>installs</th>\n",
       "      <th>score</th>\n",
       "      <th>ratings</th>\n",
       "      <th>reviews</th>\n",
       "      <th>size</th>\n",
       "      <th>androidVersion</th>\n",
       "      <th>genreId</th>\n",
       "      <th>contentRating</th>\n",
       "      <th>released</th>\n",
       "      <th>updated</th>\n",
       "      <th>version</th>\n",
       "      <th>appId</th>\n",
       "    </tr>\n",
       "  </thead>\n",
       "  <tbody>\n",
       "    <tr>\n",
       "      <th>35</th>\n",
       "      <td>War Planet Online: MMO Game</td>\n",
       "      <td>Be a war lord. Conquer the world. Build an arm...</td>\n",
       "      <td>5000000</td>\n",
       "      <td>4.239910</td>\n",
       "      <td>98200</td>\n",
       "      <td>3461</td>\n",
       "      <td>832M</td>\n",
       "      <td>5.0</td>\n",
       "      <td>STRATEGY</td>\n",
       "      <td>Everyone 10+</td>\n",
       "      <td>2017-08-30</td>\n",
       "      <td>2022-04-21</td>\n",
       "      <td>4.5.1</td>\n",
       "      <td>com.gameloft.android.ANMP.GloftW2HM</td>\n",
       "    </tr>\n",
       "    <tr>\n",
       "      <th>36</th>\n",
       "      <td>Paddington Run game</td>\n",
       "      <td>Infinite run through London with Paddington co...</td>\n",
       "      <td>1000000</td>\n",
       "      <td>3.960000</td>\n",
       "      <td>10353</td>\n",
       "      <td>249</td>\n",
       "      <td>32M</td>\n",
       "      <td>4.1</td>\n",
       "      <td>ACTION</td>\n",
       "      <td>Everyone</td>\n",
       "      <td>2017-10-25</td>\n",
       "      <td>2020-10-20</td>\n",
       "      <td>1.2.6a</td>\n",
       "      <td>com.gameloft.android.ANMP.GloftDTHM</td>\n",
       "    </tr>\n",
       "    <tr>\n",
       "      <th>37</th>\n",
       "      <td>Dungeon Hunter Champions</td>\n",
       "      <td>Online action RPG fight in live PVP 5v5 battle...</td>\n",
       "      <td>1000000</td>\n",
       "      <td>3.699357</td>\n",
       "      <td>47672</td>\n",
       "      <td>2723</td>\n",
       "      <td>Varies with device</td>\n",
       "      <td>4.4</td>\n",
       "      <td>ROLE_PLAYING</td>\n",
       "      <td>Teen</td>\n",
       "      <td>2018-05-02</td>\n",
       "      <td>2021-02-01</td>\n",
       "      <td>1.8.36</td>\n",
       "      <td>com.gameloft.android.ANMP.GloftD6HM</td>\n",
       "    </tr>\n",
       "    <tr>\n",
       "      <th>38</th>\n",
       "      <td>Order &amp; Chaos Online 3D MMORPG</td>\n",
       "      <td>Battle Orcs and Demons in a massive multiplaye...</td>\n",
       "      <td>5000000</td>\n",
       "      <td>4.347230</td>\n",
       "      <td>475583</td>\n",
       "      <td>36629</td>\n",
       "      <td>37M</td>\n",
       "      <td>4.1</td>\n",
       "      <td>ROLE_PLAYING</td>\n",
       "      <td>Teen</td>\n",
       "      <td>2011-06-20</td>\n",
       "      <td>2021-12-15</td>\n",
       "      <td>4.2.5a</td>\n",
       "      <td>com.gameloft.android.ANMP.GloftMMHM</td>\n",
       "    </tr>\n",
       "    <tr>\n",
       "      <th>39</th>\n",
       "      <td>Rival Knights</td>\n",
       "      <td>Adventure challenge game to battle for glory a...</td>\n",
       "      <td>5000000</td>\n",
       "      <td>4.274475</td>\n",
       "      <td>355751</td>\n",
       "      <td>11280</td>\n",
       "      <td>31M</td>\n",
       "      <td>4.0</td>\n",
       "      <td>ACTION</td>\n",
       "      <td>Teen</td>\n",
       "      <td>2014-06-04</td>\n",
       "      <td>2021-04-15</td>\n",
       "      <td>1.2.4b</td>\n",
       "      <td>com.gameloft.android.ANMP.GloftOKHM</td>\n",
       "    </tr>\n",
       "  </tbody>\n",
       "</table>\n",
       "</div>"
      ],
      "text/plain": [
       "                             title  \\\n",
       "35     War Planet Online: MMO Game   \n",
       "36             Paddington Run game   \n",
       "37        Dungeon Hunter Champions   \n",
       "38  Order & Chaos Online 3D MMORPG   \n",
       "39                   Rival Knights   \n",
       "\n",
       "                                              summary  installs     score  \\\n",
       "35  Be a war lord. Conquer the world. Build an arm...   5000000  4.239910   \n",
       "36  Infinite run through London with Paddington co...   1000000  3.960000   \n",
       "37  Online action RPG fight in live PVP 5v5 battle...   1000000  3.699357   \n",
       "38  Battle Orcs and Demons in a massive multiplaye...   5000000  4.347230   \n",
       "39  Adventure challenge game to battle for glory a...   5000000  4.274475   \n",
       "\n",
       "    ratings  reviews                size androidVersion       genreId  \\\n",
       "35    98200     3461                832M            5.0      STRATEGY   \n",
       "36    10353      249                 32M            4.1        ACTION   \n",
       "37    47672     2723  Varies with device            4.4  ROLE_PLAYING   \n",
       "38   475583    36629                 37M            4.1  ROLE_PLAYING   \n",
       "39   355751    11280                 31M            4.0        ACTION   \n",
       "\n",
       "   contentRating    released     updated version  \\\n",
       "35  Everyone 10+  2017-08-30  2022-04-21   4.5.1   \n",
       "36      Everyone  2017-10-25  2020-10-20  1.2.6a   \n",
       "37          Teen  2018-05-02  2021-02-01  1.8.36   \n",
       "38          Teen  2011-06-20  2021-12-15  4.2.5a   \n",
       "39          Teen  2014-06-04  2021-04-15  1.2.4b   \n",
       "\n",
       "                                  appId  \n",
       "35  com.gameloft.android.ANMP.GloftW2HM  \n",
       "36  com.gameloft.android.ANMP.GloftDTHM  \n",
       "37  com.gameloft.android.ANMP.GloftD6HM  \n",
       "38  com.gameloft.android.ANMP.GloftMMHM  \n",
       "39  com.gameloft.android.ANMP.GloftOKHM  "
      ]
     },
     "execution_count": 4,
     "metadata": {},
     "output_type": "execute_result"
    }
   ],
   "source": [
    "juegos.tail()"
   ]
  },
  {
   "cell_type": "markdown",
   "id": "bc9568fa",
   "metadata": {
    "id": "-gFLGr5YOwKZ",
    "papermill": {
     "duration": 0.012414,
     "end_time": "2022-12-08T06:08:17.828820",
     "exception": false,
     "start_time": "2022-12-08T06:08:17.816406",
     "status": "completed"
    },
    "tags": []
   },
   "source": [
    "Visualizamos el tamaño del dataset"
   ]
  },
  {
   "cell_type": "code",
   "execution_count": 5,
   "id": "ddfa7b05",
   "metadata": {
    "execution": {
     "iopub.execute_input": "2022-12-08T06:08:17.856444Z",
     "iopub.status.busy": "2022-12-08T06:08:17.855730Z",
     "iopub.status.idle": "2022-12-08T06:08:17.862805Z",
     "shell.execute_reply": "2022-12-08T06:08:17.861682Z"
    },
    "id": "6Yv12wxrD_hK",
    "outputId": "b8912d7a-540c-41f4-e9ef-aa0bdace8660",
    "papermill": {
     "duration": 0.023625,
     "end_time": "2022-12-08T06:08:17.865116",
     "exception": false,
     "start_time": "2022-12-08T06:08:17.841491",
     "status": "completed"
    },
    "tags": []
   },
   "outputs": [
    {
     "data": {
      "text/plain": [
       "(40, 14)"
      ]
     },
     "execution_count": 5,
     "metadata": {},
     "output_type": "execute_result"
    }
   ],
   "source": [
    "juegos.shape"
   ]
  },
  {
   "cell_type": "markdown",
   "id": "b96fc59a",
   "metadata": {
    "id": "90Zj7w7fPuGi",
    "papermill": {
     "duration": 0.01289,
     "end_time": "2022-12-08T06:08:17.890973",
     "exception": false,
     "start_time": "2022-12-08T06:08:17.878083",
     "status": "completed"
    },
    "tags": []
   },
   "source": [
    "Chequeo de nulos"
   ]
  },
  {
   "cell_type": "code",
   "execution_count": 6,
   "id": "287c62c3",
   "metadata": {
    "execution": {
     "iopub.execute_input": "2022-12-08T06:08:17.922134Z",
     "iopub.status.busy": "2022-12-08T06:08:17.921356Z",
     "iopub.status.idle": "2022-12-08T06:08:17.932166Z",
     "shell.execute_reply": "2022-12-08T06:08:17.930803Z"
    },
    "id": "vNyo6DcrPxjM",
    "outputId": "72a5ca8e-acf8-41a4-f0b9-752917ab801e",
    "papermill": {
     "duration": 0.030615,
     "end_time": "2022-12-08T06:08:17.934475",
     "exception": false,
     "start_time": "2022-12-08T06:08:17.903860",
     "status": "completed"
    },
    "tags": []
   },
   "outputs": [
    {
     "data": {
      "text/plain": [
       "title             0\n",
       "summary           0\n",
       "installs          0\n",
       "score             0\n",
       "ratings           0\n",
       "reviews           0\n",
       "size              0\n",
       "androidVersion    0\n",
       "genreId           0\n",
       "contentRating     0\n",
       "released          0\n",
       "updated           0\n",
       "version           0\n",
       "appId             0\n",
       "dtype: int64"
      ]
     },
     "execution_count": 6,
     "metadata": {},
     "output_type": "execute_result"
    }
   ],
   "source": [
    "juegos.isnull().sum()"
   ]
  },
  {
   "cell_type": "markdown",
   "id": "8c5c7aa5",
   "metadata": {
    "id": "ijouz6VGP9CG",
    "papermill": {
     "duration": 0.015382,
     "end_time": "2022-12-08T06:08:17.966504",
     "exception": false,
     "start_time": "2022-12-08T06:08:17.951122",
     "status": "completed"
    },
    "tags": []
   },
   "source": [
    "Podemos observar que a ninguna columna le faltan datos"
   ]
  },
  {
   "cell_type": "markdown",
   "id": "dc5e5609",
   "metadata": {
    "id": "XarmZgbdDhAs",
    "papermill": {
     "duration": 0.015009,
     "end_time": "2022-12-08T06:08:17.994466",
     "exception": false,
     "start_time": "2022-12-08T06:08:17.979457",
     "status": "completed"
    },
    "tags": []
   },
   "source": [
    "Visualizar el tipo de dato de las columnas"
   ]
  },
  {
   "cell_type": "code",
   "execution_count": 7,
   "id": "6ad85ad2",
   "metadata": {
    "execution": {
     "iopub.execute_input": "2022-12-08T06:08:18.023826Z",
     "iopub.status.busy": "2022-12-08T06:08:18.022765Z",
     "iopub.status.idle": "2022-12-08T06:08:18.046672Z",
     "shell.execute_reply": "2022-12-08T06:08:18.045206Z"
    },
    "id": "3sJbA4MlDjX7",
    "outputId": "840a64d3-e55e-46f4-a9e9-bdc88632433b",
    "papermill": {
     "duration": 0.040954,
     "end_time": "2022-12-08T06:08:18.049319",
     "exception": false,
     "start_time": "2022-12-08T06:08:18.008365",
     "status": "completed"
    },
    "tags": []
   },
   "outputs": [
    {
     "name": "stdout",
     "output_type": "stream",
     "text": [
      "<class 'pandas.core.frame.DataFrame'>\n",
      "RangeIndex: 40 entries, 0 to 39\n",
      "Data columns (total 14 columns):\n",
      " #   Column          Non-Null Count  Dtype  \n",
      "---  ------          --------------  -----  \n",
      " 0   title           40 non-null     object \n",
      " 1   summary         40 non-null     object \n",
      " 2   installs        40 non-null     int64  \n",
      " 3   score           40 non-null     float64\n",
      " 4   ratings         40 non-null     int64  \n",
      " 5   reviews         40 non-null     int64  \n",
      " 6   size            40 non-null     object \n",
      " 7   androidVersion  40 non-null     object \n",
      " 8   genreId         40 non-null     object \n",
      " 9   contentRating   40 non-null     object \n",
      " 10  released        40 non-null     object \n",
      " 11  updated         40 non-null     object \n",
      " 12  version         40 non-null     object \n",
      " 13  appId           40 non-null     object \n",
      "dtypes: float64(1), int64(3), object(10)\n",
      "memory usage: 4.5+ KB\n"
     ]
    }
   ],
   "source": [
    "juegos.info()"
   ]
  },
  {
   "cell_type": "markdown",
   "id": "102d19a3",
   "metadata": {
    "id": "ByPKCiRtEGcI",
    "papermill": {
     "duration": 0.013099,
     "end_time": "2022-12-08T06:08:18.078809",
     "exception": false,
     "start_time": "2022-12-08T06:08:18.065710",
     "status": "completed"
    },
    "tags": []
   },
   "source": [
    "Convertir el tipo de dato de las columnas"
   ]
  },
  {
   "cell_type": "code",
   "execution_count": 8,
   "id": "266a6b9b",
   "metadata": {
    "execution": {
     "iopub.execute_input": "2022-12-08T06:08:18.108029Z",
     "iopub.status.busy": "2022-12-08T06:08:18.107032Z",
     "iopub.status.idle": "2022-12-08T06:08:18.115924Z",
     "shell.execute_reply": "2022-12-08T06:08:18.114943Z"
    },
    "id": "l6Blq4V6VYBi",
    "outputId": "d8525688-7e41-431c-eab2-b6a1bab047e1",
    "papermill": {
     "duration": 0.025878,
     "end_time": "2022-12-08T06:08:18.118123",
     "exception": false,
     "start_time": "2022-12-08T06:08:18.092245",
     "status": "completed"
    },
    "tags": []
   },
   "outputs": [
    {
     "data": {
      "text/plain": [
       "array(['2013-08-20', '2015-11-05', '2018-07-25', '2016-09-29',\n",
       "       '2015-12-02', '2017-03-27', '2013-06-19', '2017-03-29',\n",
       "       '2012-11-28', '2013-11-14', '2014-07-23', '2013-06-13',\n",
       "       '2012-11-08', '2014-12-17', '2017-05-24', '2015-01-07',\n",
       "       '2017-09-27', '2016-03-17', '2013-09-10', '2020-04-15',\n",
       "       '2016-08-22', '2013-09-19', '2019-10-09', '2015-12-17',\n",
       "       '2012-03-15', '2012-11-21', '2017-04-26', '2014-08-06',\n",
       "       '2015-03-11', '2015-08-04', '2013-05-09', '2021-10-26',\n",
       "       '2012-12-05', '2012-04-05', '2015-09-16', '2017-08-30',\n",
       "       '2017-10-25', '2018-05-02', '2011-06-20', '2014-06-04'],\n",
       "      dtype=object)"
      ]
     },
     "execution_count": 8,
     "metadata": {},
     "output_type": "execute_result"
    }
   ],
   "source": [
    "juegos['released'].unique()"
   ]
  },
  {
   "cell_type": "code",
   "execution_count": 9,
   "id": "87bbcbe9",
   "metadata": {
    "execution": {
     "iopub.execute_input": "2022-12-08T06:08:18.147807Z",
     "iopub.status.busy": "2022-12-08T06:08:18.146560Z",
     "iopub.status.idle": "2022-12-08T06:08:18.155157Z",
     "shell.execute_reply": "2022-12-08T06:08:18.153976Z"
    },
    "id": "mryI-3FrRnfT",
    "papermill": {
     "duration": 0.025682,
     "end_time": "2022-12-08T06:08:18.157612",
     "exception": false,
     "start_time": "2022-12-08T06:08:18.131930",
     "status": "completed"
    },
    "tags": []
   },
   "outputs": [],
   "source": [
    "juegos['released'] = pd.to_datetime(juegos['released'])\n"
   ]
  },
  {
   "cell_type": "code",
   "execution_count": 10,
   "id": "b705861f",
   "metadata": {
    "execution": {
     "iopub.execute_input": "2022-12-08T06:08:18.187150Z",
     "iopub.status.busy": "2022-12-08T06:08:18.186692Z",
     "iopub.status.idle": "2022-12-08T06:08:18.194672Z",
     "shell.execute_reply": "2022-12-08T06:08:18.193488Z"
    },
    "id": "tWKiRh6vVgb9",
    "outputId": "48897ac7-b4e1-4bed-d701-c41fa8e3258e",
    "papermill": {
     "duration": 0.025249,
     "end_time": "2022-12-08T06:08:18.196903",
     "exception": false,
     "start_time": "2022-12-08T06:08:18.171654",
     "status": "completed"
    },
    "tags": []
   },
   "outputs": [
    {
     "data": {
      "text/plain": [
       "array(['2022-04-18', '2022-03-21', '2022-04-28', '2021-08-24',\n",
       "       '2022-02-02', '2020-10-15', '2022-03-30', '2021-07-14',\n",
       "       '2018-05-25', '2021-10-29', '2021-10-07', '2022-02-03',\n",
       "       '2022-04-14', '2022-02-10', '2020-09-29', '2022-04-19',\n",
       "       '2021-03-18', '2022-04-22', '2021-08-25', '2020-07-16',\n",
       "       '2020-07-17', '2021-01-18', '2020-12-10', '2020-12-07',\n",
       "       '2021-01-13', '2021-06-15', '2022-04-26', '2022-04-12',\n",
       "       '2021-01-11', '2022-03-29', '2021-02-24', '2018-08-13',\n",
       "       '2022-04-21', '2020-10-20', '2021-02-01', '2021-12-15',\n",
       "       '2021-04-15'], dtype=object)"
      ]
     },
     "execution_count": 10,
     "metadata": {},
     "output_type": "execute_result"
    }
   ],
   "source": [
    "juegos['updated'].unique()"
   ]
  },
  {
   "cell_type": "code",
   "execution_count": 11,
   "id": "4a2ea20d",
   "metadata": {
    "execution": {
     "iopub.execute_input": "2022-12-08T06:08:18.225681Z",
     "iopub.status.busy": "2022-12-08T06:08:18.225214Z",
     "iopub.status.idle": "2022-12-08T06:08:18.232580Z",
     "shell.execute_reply": "2022-12-08T06:08:18.231379Z"
    },
    "id": "qn1vjzfvVgRo",
    "papermill": {
     "duration": 0.024491,
     "end_time": "2022-12-08T06:08:18.234835",
     "exception": false,
     "start_time": "2022-12-08T06:08:18.210344",
     "status": "completed"
    },
    "tags": []
   },
   "outputs": [],
   "source": [
    "juegos['updated'] = pd.to_datetime(juegos['updated'])"
   ]
  },
  {
   "cell_type": "code",
   "execution_count": 12,
   "id": "660f899d",
   "metadata": {
    "execution": {
     "iopub.execute_input": "2022-12-08T06:08:18.263572Z",
     "iopub.status.busy": "2022-12-08T06:08:18.263136Z",
     "iopub.status.idle": "2022-12-08T06:08:18.270894Z",
     "shell.execute_reply": "2022-12-08T06:08:18.270054Z"
    },
    "id": "MLhDIgWKWE7H",
    "outputId": "0cd38b02-63d6-4f4b-9f7d-9e07d71b695c",
    "papermill": {
     "duration": 0.024788,
     "end_time": "2022-12-08T06:08:18.272872",
     "exception": false,
     "start_time": "2022-12-08T06:08:18.248084",
     "status": "completed"
    },
    "tags": []
   },
   "outputs": [
    {
     "data": {
      "text/plain": [
       "title                     object\n",
       "summary                   object\n",
       "installs                   int64\n",
       "score                    float64\n",
       "ratings                    int64\n",
       "reviews                    int64\n",
       "size                      object\n",
       "androidVersion            object\n",
       "genreId                   object\n",
       "contentRating             object\n",
       "released          datetime64[ns]\n",
       "updated           datetime64[ns]\n",
       "version                   object\n",
       "appId                     object\n",
       "dtype: object"
      ]
     },
     "execution_count": 12,
     "metadata": {},
     "output_type": "execute_result"
    }
   ],
   "source": [
    "juegos.dtypes"
   ]
  },
  {
   "cell_type": "markdown",
   "id": "957929ae",
   "metadata": {
    "id": "HWJJn7lhWgle",
    "papermill": {
     "duration": 0.013621,
     "end_time": "2022-12-08T06:08:18.299962",
     "exception": false,
     "start_time": "2022-12-08T06:08:18.286341",
     "status": "completed"
    },
    "tags": []
   },
   "source": [
    "Obtener los años y meses de lanzamiento y de última actualizacion"
   ]
  },
  {
   "cell_type": "code",
   "execution_count": 13,
   "id": "a5c50859",
   "metadata": {
    "execution": {
     "iopub.execute_input": "2022-12-08T06:08:18.328645Z",
     "iopub.status.busy": "2022-12-08T06:08:18.328201Z",
     "iopub.status.idle": "2022-12-08T06:08:18.337950Z",
     "shell.execute_reply": "2022-12-08T06:08:18.337094Z"
    },
    "id": "ffLsz3bXWo7y",
    "papermill": {
     "duration": 0.026531,
     "end_time": "2022-12-08T06:08:18.340057",
     "exception": false,
     "start_time": "2022-12-08T06:08:18.313526",
     "status": "completed"
    },
    "tags": []
   },
   "outputs": [],
   "source": [
    "juegos[\"released_year\"]=juegos[\"released\"].dt.year\n",
    "juegos[\"released_month\"]=juegos[\"released\"].dt.month\n",
    "juegos[\"updated_year\"]=juegos[\"updated\"].dt.year\n",
    "juegos[\"updated_month\"]=juegos[\"updated\"].dt.month"
   ]
  },
  {
   "cell_type": "code",
   "execution_count": 14,
   "id": "bf7b9a67",
   "metadata": {
    "execution": {
     "iopub.execute_input": "2022-12-08T06:08:18.369702Z",
     "iopub.status.busy": "2022-12-08T06:08:18.368846Z",
     "iopub.status.idle": "2022-12-08T06:08:18.388105Z",
     "shell.execute_reply": "2022-12-08T06:08:18.387301Z"
    },
    "id": "8zkbDOefXI_X",
    "outputId": "9922e4e7-e5e1-4d5b-ca43-d762f5ec7e35",
    "papermill": {
     "duration": 0.0362,
     "end_time": "2022-12-08T06:08:18.390215",
     "exception": false,
     "start_time": "2022-12-08T06:08:18.354015",
     "status": "completed"
    },
    "tags": []
   },
   "outputs": [
    {
     "data": {
      "text/html": [
       "<div>\n",
       "<style scoped>\n",
       "    .dataframe tbody tr th:only-of-type {\n",
       "        vertical-align: middle;\n",
       "    }\n",
       "\n",
       "    .dataframe tbody tr th {\n",
       "        vertical-align: top;\n",
       "    }\n",
       "\n",
       "    .dataframe thead th {\n",
       "        text-align: right;\n",
       "    }\n",
       "</style>\n",
       "<table border=\"1\" class=\"dataframe\">\n",
       "  <thead>\n",
       "    <tr style=\"text-align: right;\">\n",
       "      <th></th>\n",
       "      <th>title</th>\n",
       "      <th>summary</th>\n",
       "      <th>installs</th>\n",
       "      <th>score</th>\n",
       "      <th>ratings</th>\n",
       "      <th>reviews</th>\n",
       "      <th>size</th>\n",
       "      <th>androidVersion</th>\n",
       "      <th>genreId</th>\n",
       "      <th>contentRating</th>\n",
       "      <th>released</th>\n",
       "      <th>updated</th>\n",
       "      <th>version</th>\n",
       "      <th>appId</th>\n",
       "      <th>released_year</th>\n",
       "      <th>released_month</th>\n",
       "      <th>updated_year</th>\n",
       "      <th>updated_month</th>\n",
       "    </tr>\n",
       "  </thead>\n",
       "  <tbody>\n",
       "    <tr>\n",
       "      <th>0</th>\n",
       "      <td>Asphalt 8 - Car Racing Game</td>\n",
       "      <td>Racing multiplayer online game. Drive cars and...</td>\n",
       "      <td>100000000</td>\n",
       "      <td>4.474443</td>\n",
       "      <td>10191799</td>\n",
       "      <td>280041</td>\n",
       "      <td>177M</td>\n",
       "      <td>5.0</td>\n",
       "      <td>RACING</td>\n",
       "      <td>Everyone 10+</td>\n",
       "      <td>2013-08-20</td>\n",
       "      <td>2022-04-18</td>\n",
       "      <td>6.2.3b</td>\n",
       "      <td>com.gameloft.android.ANMP.GloftA8HM</td>\n",
       "      <td>2013</td>\n",
       "      <td>8</td>\n",
       "      <td>2022</td>\n",
       "      <td>4</td>\n",
       "    </tr>\n",
       "    <tr>\n",
       "      <th>1</th>\n",
       "      <td>Asphalt Nitro</td>\n",
       "      <td>Car racing game with luxury licensed brands</td>\n",
       "      <td>100000000</td>\n",
       "      <td>4.285882</td>\n",
       "      <td>1743070</td>\n",
       "      <td>16204</td>\n",
       "      <td>46M</td>\n",
       "      <td>4.1</td>\n",
       "      <td>RACING</td>\n",
       "      <td>Everyone</td>\n",
       "      <td>2015-11-05</td>\n",
       "      <td>2022-03-21</td>\n",
       "      <td>1.7.5a</td>\n",
       "      <td>com.gameloft.android.ANMP.GloftAGHM</td>\n",
       "      <td>2015</td>\n",
       "      <td>11</td>\n",
       "      <td>2022</td>\n",
       "      <td>3</td>\n",
       "    </tr>\n",
       "  </tbody>\n",
       "</table>\n",
       "</div>"
      ],
      "text/plain": [
       "                         title  \\\n",
       "0  Asphalt 8 - Car Racing Game   \n",
       "1                Asphalt Nitro   \n",
       "\n",
       "                                             summary   installs     score  \\\n",
       "0  Racing multiplayer online game. Drive cars and...  100000000  4.474443   \n",
       "1        Car racing game with luxury licensed brands  100000000  4.285882   \n",
       "\n",
       "    ratings  reviews  size androidVersion genreId contentRating   released  \\\n",
       "0  10191799   280041  177M            5.0  RACING  Everyone 10+ 2013-08-20   \n",
       "1   1743070    16204   46M            4.1  RACING      Everyone 2015-11-05   \n",
       "\n",
       "     updated version                                appId  released_year  \\\n",
       "0 2022-04-18  6.2.3b  com.gameloft.android.ANMP.GloftA8HM           2013   \n",
       "1 2022-03-21  1.7.5a  com.gameloft.android.ANMP.GloftAGHM           2015   \n",
       "\n",
       "   released_month  updated_year  updated_month  \n",
       "0               8          2022              4  \n",
       "1              11          2022              3  "
      ]
     },
     "execution_count": 14,
     "metadata": {},
     "output_type": "execute_result"
    }
   ],
   "source": [
    "juegos.head(2)"
   ]
  },
  {
   "cell_type": "markdown",
   "id": "fa6ec286",
   "metadata": {
    "id": "wj6sLFZxcD5A",
    "papermill": {
     "duration": 0.013373,
     "end_time": "2022-12-08T06:08:18.417401",
     "exception": false,
     "start_time": "2022-12-08T06:08:18.404028",
     "status": "completed"
    },
    "tags": []
   },
   "source": [
    "Eliminando columnas que no serán necesarias para el análisis"
   ]
  },
  {
   "cell_type": "code",
   "execution_count": 15,
   "id": "8583ec40",
   "metadata": {
    "execution": {
     "iopub.execute_input": "2022-12-08T06:08:18.447384Z",
     "iopub.status.busy": "2022-12-08T06:08:18.446355Z",
     "iopub.status.idle": "2022-12-08T06:08:18.454459Z",
     "shell.execute_reply": "2022-12-08T06:08:18.453624Z"
    },
    "id": "i95BxK12cJKU",
    "papermill": {
     "duration": 0.025502,
     "end_time": "2022-12-08T06:08:18.456645",
     "exception": false,
     "start_time": "2022-12-08T06:08:18.431143",
     "status": "completed"
    },
    "tags": []
   },
   "outputs": [],
   "source": [
    "juegos=juegos.drop([\"released\",\"updated\",\"appId\"], axis=1)"
   ]
  },
  {
   "cell_type": "code",
   "execution_count": 16,
   "id": "27b12982",
   "metadata": {
    "execution": {
     "iopub.execute_input": "2022-12-08T06:08:18.485745Z",
     "iopub.status.busy": "2022-12-08T06:08:18.485270Z",
     "iopub.status.idle": "2022-12-08T06:08:18.502579Z",
     "shell.execute_reply": "2022-12-08T06:08:18.501361Z"
    },
    "id": "goqewU7leKDw",
    "outputId": "277970ca-9eae-404d-f6ce-b3b1153f4397",
    "papermill": {
     "duration": 0.034799,
     "end_time": "2022-12-08T06:08:18.505099",
     "exception": false,
     "start_time": "2022-12-08T06:08:18.470300",
     "status": "completed"
    },
    "tags": []
   },
   "outputs": [
    {
     "data": {
      "text/html": [
       "<div>\n",
       "<style scoped>\n",
       "    .dataframe tbody tr th:only-of-type {\n",
       "        vertical-align: middle;\n",
       "    }\n",
       "\n",
       "    .dataframe tbody tr th {\n",
       "        vertical-align: top;\n",
       "    }\n",
       "\n",
       "    .dataframe thead th {\n",
       "        text-align: right;\n",
       "    }\n",
       "</style>\n",
       "<table border=\"1\" class=\"dataframe\">\n",
       "  <thead>\n",
       "    <tr style=\"text-align: right;\">\n",
       "      <th></th>\n",
       "      <th>title</th>\n",
       "      <th>summary</th>\n",
       "      <th>installs</th>\n",
       "      <th>score</th>\n",
       "      <th>ratings</th>\n",
       "      <th>reviews</th>\n",
       "      <th>size</th>\n",
       "      <th>androidVersion</th>\n",
       "      <th>genreId</th>\n",
       "      <th>contentRating</th>\n",
       "      <th>version</th>\n",
       "      <th>released_year</th>\n",
       "      <th>released_month</th>\n",
       "      <th>updated_year</th>\n",
       "      <th>updated_month</th>\n",
       "    </tr>\n",
       "  </thead>\n",
       "  <tbody>\n",
       "    <tr>\n",
       "      <th>0</th>\n",
       "      <td>Asphalt 8 - Car Racing Game</td>\n",
       "      <td>Racing multiplayer online game. Drive cars and...</td>\n",
       "      <td>100000000</td>\n",
       "      <td>4.474443</td>\n",
       "      <td>10191799</td>\n",
       "      <td>280041</td>\n",
       "      <td>177M</td>\n",
       "      <td>5.0</td>\n",
       "      <td>RACING</td>\n",
       "      <td>Everyone 10+</td>\n",
       "      <td>6.2.3b</td>\n",
       "      <td>2013</td>\n",
       "      <td>8</td>\n",
       "      <td>2022</td>\n",
       "      <td>4</td>\n",
       "    </tr>\n",
       "    <tr>\n",
       "      <th>1</th>\n",
       "      <td>Asphalt Nitro</td>\n",
       "      <td>Car racing game with luxury licensed brands</td>\n",
       "      <td>100000000</td>\n",
       "      <td>4.285882</td>\n",
       "      <td>1743070</td>\n",
       "      <td>16204</td>\n",
       "      <td>46M</td>\n",
       "      <td>4.1</td>\n",
       "      <td>RACING</td>\n",
       "      <td>Everyone</td>\n",
       "      <td>1.7.5a</td>\n",
       "      <td>2015</td>\n",
       "      <td>11</td>\n",
       "      <td>2022</td>\n",
       "      <td>3</td>\n",
       "    </tr>\n",
       "  </tbody>\n",
       "</table>\n",
       "</div>"
      ],
      "text/plain": [
       "                         title  \\\n",
       "0  Asphalt 8 - Car Racing Game   \n",
       "1                Asphalt Nitro   \n",
       "\n",
       "                                             summary   installs     score  \\\n",
       "0  Racing multiplayer online game. Drive cars and...  100000000  4.474443   \n",
       "1        Car racing game with luxury licensed brands  100000000  4.285882   \n",
       "\n",
       "    ratings  reviews  size androidVersion genreId contentRating version  \\\n",
       "0  10191799   280041  177M            5.0  RACING  Everyone 10+  6.2.3b   \n",
       "1   1743070    16204   46M            4.1  RACING      Everyone  1.7.5a   \n",
       "\n",
       "   released_year  released_month  updated_year  updated_month  \n",
       "0           2013               8          2022              4  \n",
       "1           2015              11          2022              3  "
      ]
     },
     "execution_count": 16,
     "metadata": {},
     "output_type": "execute_result"
    }
   ],
   "source": [
    "juegos.head(2)"
   ]
  },
  {
   "cell_type": "markdown",
   "id": "95bd1629",
   "metadata": {
    "id": "lyee8scA0tTw",
    "papermill": {
     "duration": 0.013475,
     "end_time": "2022-12-08T06:08:18.532521",
     "exception": false,
     "start_time": "2022-12-08T06:08:18.519046",
     "status": "completed"
    },
    "tags": []
   },
   "source": [
    "# Visualizaciones"
   ]
  },
  {
   "cell_type": "markdown",
   "id": "5004c633",
   "metadata": {
    "id": "tnSH-whIDr9J",
    "papermill": {
     "duration": 0.013832,
     "end_time": "2022-12-08T06:08:18.560793",
     "exception": false,
     "start_time": "2022-12-08T06:08:18.546961",
     "status": "completed"
    },
    "tags": []
   },
   "source": [
    "## 1. ¿Qué juego es el más instalado(descargado)?"
   ]
  },
  {
   "cell_type": "code",
   "execution_count": 17,
   "id": "1e4e871f",
   "metadata": {
    "execution": {
     "iopub.execute_input": "2022-12-08T06:08:18.591091Z",
     "iopub.status.busy": "2022-12-08T06:08:18.590601Z",
     "iopub.status.idle": "2022-12-08T06:08:18.604458Z",
     "shell.execute_reply": "2022-12-08T06:08:18.603383Z"
    },
    "id": "RzQldf_mD3Fi",
    "outputId": "8b72d2ef-574f-4cbd-bcf3-2900cc8909c0",
    "papermill": {
     "duration": 0.032119,
     "end_time": "2022-12-08T06:08:18.606882",
     "exception": false,
     "start_time": "2022-12-08T06:08:18.574763",
     "status": "completed"
    },
    "tags": []
   },
   "outputs": [
    {
     "data": {
      "text/html": [
       "<div>\n",
       "<style scoped>\n",
       "    .dataframe tbody tr th:only-of-type {\n",
       "        vertical-align: middle;\n",
       "    }\n",
       "\n",
       "    .dataframe tbody tr th {\n",
       "        vertical-align: top;\n",
       "    }\n",
       "\n",
       "    .dataframe thead th {\n",
       "        text-align: right;\n",
       "    }\n",
       "</style>\n",
       "<table border=\"1\" class=\"dataframe\">\n",
       "  <thead>\n",
       "    <tr style=\"text-align: right;\">\n",
       "      <th></th>\n",
       "      <th>11</th>\n",
       "    </tr>\n",
       "  </thead>\n",
       "  <tbody>\n",
       "    <tr>\n",
       "      <th>title</th>\n",
       "      <td>Minion Rush: Running Game</td>\n",
       "    </tr>\n",
       "    <tr>\n",
       "      <th>summary</th>\n",
       "      <td>Official Minions and Despicable Me endless run...</td>\n",
       "    </tr>\n",
       "    <tr>\n",
       "      <th>installs</th>\n",
       "      <td>500000000</td>\n",
       "    </tr>\n",
       "    <tr>\n",
       "      <th>score</th>\n",
       "      <td>4.5919</td>\n",
       "    </tr>\n",
       "    <tr>\n",
       "      <th>ratings</th>\n",
       "      <td>10724213</td>\n",
       "    </tr>\n",
       "    <tr>\n",
       "      <th>reviews</th>\n",
       "      <td>608639</td>\n",
       "    </tr>\n",
       "    <tr>\n",
       "      <th>size</th>\n",
       "      <td>127M</td>\n",
       "    </tr>\n",
       "    <tr>\n",
       "      <th>androidVersion</th>\n",
       "      <td>5.0</td>\n",
       "    </tr>\n",
       "    <tr>\n",
       "      <th>genreId</th>\n",
       "      <td>CASUAL</td>\n",
       "    </tr>\n",
       "    <tr>\n",
       "      <th>contentRating</th>\n",
       "      <td>Everyone 10+</td>\n",
       "    </tr>\n",
       "    <tr>\n",
       "      <th>version</th>\n",
       "      <td>8.3.1a</td>\n",
       "    </tr>\n",
       "    <tr>\n",
       "      <th>released_year</th>\n",
       "      <td>2013</td>\n",
       "    </tr>\n",
       "    <tr>\n",
       "      <th>released_month</th>\n",
       "      <td>6</td>\n",
       "    </tr>\n",
       "    <tr>\n",
       "      <th>updated_year</th>\n",
       "      <td>2022</td>\n",
       "    </tr>\n",
       "    <tr>\n",
       "      <th>updated_month</th>\n",
       "      <td>2</td>\n",
       "    </tr>\n",
       "  </tbody>\n",
       "</table>\n",
       "</div>"
      ],
      "text/plain": [
       "                                                               11\n",
       "title                                   Minion Rush: Running Game\n",
       "summary         Official Minions and Despicable Me endless run...\n",
       "installs                                                500000000\n",
       "score                                                      4.5919\n",
       "ratings                                                  10724213\n",
       "reviews                                                    608639\n",
       "size                                                         127M\n",
       "androidVersion                                                5.0\n",
       "genreId                                                    CASUAL\n",
       "contentRating                                        Everyone 10+\n",
       "version                                                    8.3.1a\n",
       "released_year                                                2013\n",
       "released_month                                                  6\n",
       "updated_year                                                 2022\n",
       "updated_month                                                   2"
      ]
     },
     "execution_count": 17,
     "metadata": {},
     "output_type": "execute_result"
    }
   ],
   "source": [
    "juegos[juegos[\"installs\"]==juegos[\"installs\"].max()].T"
   ]
  },
  {
   "cell_type": "markdown",
   "id": "c8328b20",
   "metadata": {
    "id": "kDKJFt-JEH32",
    "papermill": {
     "duration": 0.013811,
     "end_time": "2022-12-08T06:08:18.635000",
     "exception": false,
     "start_time": "2022-12-08T06:08:18.621189",
     "status": "completed"
    },
    "tags": []
   },
   "source": [
    "\n",
    "* El juego con mayor número de descargas es el *Minion Rush: Running Game* con un total de 500 millones de descargas"
   ]
  },
  {
   "cell_type": "markdown",
   "id": "622d3685",
   "metadata": {
    "id": "dAkGy2U8EiZh",
    "papermill": {
     "duration": 0.013508,
     "end_time": "2022-12-08T06:08:18.662497",
     "exception": false,
     "start_time": "2022-12-08T06:08:18.648989",
     "status": "completed"
    },
    "tags": []
   },
   "source": [
    "Ahora veamos el Top 10 de juegos más descargados"
   ]
  },
  {
   "cell_type": "markdown",
   "id": "690ca1bf",
   "metadata": {
    "id": "q9Qk-Pd2elKN",
    "papermill": {
     "duration": 0.01378,
     "end_time": "2022-12-08T06:08:18.690336",
     "exception": false,
     "start_time": "2022-12-08T06:08:18.676556",
     "status": "completed"
    },
    "tags": []
   },
   "source": [
    "**Top 10 juegos con más descargas**"
   ]
  },
  {
   "cell_type": "code",
   "execution_count": 18,
   "id": "80945ee9",
   "metadata": {
    "execution": {
     "iopub.execute_input": "2022-12-08T06:08:18.722096Z",
     "iopub.status.busy": "2022-12-08T06:08:18.720781Z",
     "iopub.status.idle": "2022-12-08T06:08:18.727132Z",
     "shell.execute_reply": "2022-12-08T06:08:18.726249Z"
    },
    "id": "GRnl6Rd1iYb0",
    "papermill": {
     "duration": 0.024784,
     "end_time": "2022-12-08T06:08:18.729181",
     "exception": false,
     "start_time": "2022-12-08T06:08:18.704397",
     "status": "completed"
    },
    "tags": []
   },
   "outputs": [],
   "source": [
    "top_10=juegos[[\"title\",\"installs\"]]"
   ]
  },
  {
   "cell_type": "code",
   "execution_count": 19,
   "id": "dbf2c073",
   "metadata": {
    "execution": {
     "iopub.execute_input": "2022-12-08T06:08:18.759667Z",
     "iopub.status.busy": "2022-12-08T06:08:18.758626Z",
     "iopub.status.idle": "2022-12-08T06:08:18.763897Z",
     "shell.execute_reply": "2022-12-08T06:08:18.763102Z"
    },
    "id": "BRWvzXx5ewKW",
    "papermill": {
     "duration": 0.022548,
     "end_time": "2022-12-08T06:08:18.765889",
     "exception": false,
     "start_time": "2022-12-08T06:08:18.743341",
     "status": "completed"
    },
    "tags": []
   },
   "outputs": [],
   "source": [
    "top_10=top_10.sort_values(\"installs\").tail(10)"
   ]
  },
  {
   "cell_type": "code",
   "execution_count": 20,
   "id": "e1681ce9",
   "metadata": {
    "execution": {
     "iopub.execute_input": "2022-12-08T06:08:18.796165Z",
     "iopub.status.busy": "2022-12-08T06:08:18.795055Z",
     "iopub.status.idle": "2022-12-08T06:08:19.026827Z",
     "shell.execute_reply": "2022-12-08T06:08:19.025568Z"
    },
    "id": "LqMSxi8LlXdC",
    "outputId": "7dbefd6b-9963-45e8-a637-5df3afa6ed0a",
    "papermill": {
     "duration": 0.249599,
     "end_time": "2022-12-08T06:08:19.029480",
     "exception": false,
     "start_time": "2022-12-08T06:08:18.779881",
     "status": "completed"
    },
    "tags": []
   },
   "outputs": [
    {
     "data": {
      "image/png": "[encoded data removed]",
      "text/plain": [
       "<Figure size 864x576 with 1 Axes>"
      ]
     },
     "metadata": {
      "needs_background": "light"
     },
     "output_type": "display_data"
    }
   ],
   "source": [
    "fig, ax = plt.subplots(figsize=(12, 8))\n",
    "\n",
    "normdata = colors.Normalize(min(top_10[\"installs\"]), max(top_10[\"installs\"]))\n",
    "colormap = cm.get_cmap(\"Wistia\")\n",
    "colores =colormap(normdata(top_10[\"installs\"]))\n",
    "\n",
    "ax.barh(top_10[\"title\"], top_10[\"installs\"],color=colores)\n",
    "\n",
    "plt.xlabel(\"Descargas\")\n",
    "plt.title(\"Top 10 juegos más descargados\")\n",
    "plt.show()"
   ]
  },
  {
   "cell_type": "markdown",
   "id": "1b04b05d",
   "metadata": {
    "id": "myzOIZmG7R11",
    "papermill": {
     "duration": 0.014589,
     "end_time": "2022-12-08T06:08:19.059189",
     "exception": false,
     "start_time": "2022-12-08T06:08:19.044600",
     "status": "completed"
    },
    "tags": []
   },
   "source": [
    "## 2. ¿Qué juego tiene mayor puntuación?"
   ]
  },
  {
   "cell_type": "code",
   "execution_count": 21,
   "id": "699889f7",
   "metadata": {
    "execution": {
     "iopub.execute_input": "2022-12-08T06:08:19.091720Z",
     "iopub.status.busy": "2022-12-08T06:08:19.091261Z",
     "iopub.status.idle": "2022-12-08T06:08:19.102933Z",
     "shell.execute_reply": "2022-12-08T06:08:19.102134Z"
    },
    "id": "f-rTi7lt7v3k",
    "outputId": "1b9dadfe-9d3b-4e2f-933e-cc2d60fb12c1",
    "papermill": {
     "duration": 0.030833,
     "end_time": "2022-12-08T06:08:19.104925",
     "exception": false,
     "start_time": "2022-12-08T06:08:19.074092",
     "status": "completed"
    },
    "tags": []
   },
   "outputs": [
    {
     "data": {
      "text/html": [
       "<div>\n",
       "<style scoped>\n",
       "    .dataframe tbody tr th:only-of-type {\n",
       "        vertical-align: middle;\n",
       "    }\n",
       "\n",
       "    .dataframe tbody tr th {\n",
       "        vertical-align: top;\n",
       "    }\n",
       "\n",
       "    .dataframe thead th {\n",
       "        text-align: right;\n",
       "    }\n",
       "</style>\n",
       "<table border=\"1\" class=\"dataframe\">\n",
       "  <thead>\n",
       "    <tr style=\"text-align: right;\">\n",
       "      <th></th>\n",
       "      <th>11</th>\n",
       "    </tr>\n",
       "  </thead>\n",
       "  <tbody>\n",
       "    <tr>\n",
       "      <th>title</th>\n",
       "      <td>Minion Rush: Running Game</td>\n",
       "    </tr>\n",
       "    <tr>\n",
       "      <th>summary</th>\n",
       "      <td>Official Minions and Despicable Me endless run...</td>\n",
       "    </tr>\n",
       "    <tr>\n",
       "      <th>installs</th>\n",
       "      <td>500000000</td>\n",
       "    </tr>\n",
       "    <tr>\n",
       "      <th>score</th>\n",
       "      <td>4.5919</td>\n",
       "    </tr>\n",
       "    <tr>\n",
       "      <th>ratings</th>\n",
       "      <td>10724213</td>\n",
       "    </tr>\n",
       "    <tr>\n",
       "      <th>reviews</th>\n",
       "      <td>608639</td>\n",
       "    </tr>\n",
       "    <tr>\n",
       "      <th>size</th>\n",
       "      <td>127M</td>\n",
       "    </tr>\n",
       "    <tr>\n",
       "      <th>androidVersion</th>\n",
       "      <td>5.0</td>\n",
       "    </tr>\n",
       "    <tr>\n",
       "      <th>genreId</th>\n",
       "      <td>CASUAL</td>\n",
       "    </tr>\n",
       "    <tr>\n",
       "      <th>contentRating</th>\n",
       "      <td>Everyone 10+</td>\n",
       "    </tr>\n",
       "    <tr>\n",
       "      <th>version</th>\n",
       "      <td>8.3.1a</td>\n",
       "    </tr>\n",
       "    <tr>\n",
       "      <th>released_year</th>\n",
       "      <td>2013</td>\n",
       "    </tr>\n",
       "    <tr>\n",
       "      <th>released_month</th>\n",
       "      <td>6</td>\n",
       "    </tr>\n",
       "    <tr>\n",
       "      <th>updated_year</th>\n",
       "      <td>2022</td>\n",
       "    </tr>\n",
       "    <tr>\n",
       "      <th>updated_month</th>\n",
       "      <td>2</td>\n",
       "    </tr>\n",
       "  </tbody>\n",
       "</table>\n",
       "</div>"
      ],
      "text/plain": [
       "                                                               11\n",
       "title                                   Minion Rush: Running Game\n",
       "summary         Official Minions and Despicable Me endless run...\n",
       "installs                                                500000000\n",
       "score                                                      4.5919\n",
       "ratings                                                  10724213\n",
       "reviews                                                    608639\n",
       "size                                                         127M\n",
       "androidVersion                                                5.0\n",
       "genreId                                                    CASUAL\n",
       "contentRating                                        Everyone 10+\n",
       "version                                                    8.3.1a\n",
       "released_year                                                2013\n",
       "released_month                                                  6\n",
       "updated_year                                                 2022\n",
       "updated_month                                                   2"
      ]
     },
     "execution_count": 21,
     "metadata": {},
     "output_type": "execute_result"
    }
   ],
   "source": [
    "juegos[juegos[\"score\"]==juegos[\"score\"].max()].T"
   ]
  },
  {
   "cell_type": "markdown",
   "id": "5d3dc0d1",
   "metadata": {
    "id": "_LzaqjqVGB9l",
    "papermill": {
     "duration": 0.014552,
     "end_time": "2022-12-08T06:08:19.134441",
     "exception": false,
     "start_time": "2022-12-08T06:08:19.119889",
     "status": "completed"
    },
    "tags": []
   },
   "source": [
    "*   Observamos que el juego con mayor score es *Minion Rush: Running Game*"
   ]
  },
  {
   "cell_type": "markdown",
   "id": "015d400a",
   "metadata": {
    "id": "ubDYTrzvGVJP",
    "papermill": {
     "duration": 0.014609,
     "end_time": "2022-12-08T06:08:19.163960",
     "exception": false,
     "start_time": "2022-12-08T06:08:19.149351",
     "status": "completed"
    },
    "tags": []
   },
   "source": [
    "Ahora veamos el Top 10 de los juegos mejor valorados"
   ]
  },
  {
   "cell_type": "markdown",
   "id": "8a6a2b5f",
   "metadata": {
    "id": "WdP2tZ0WGZyq",
    "papermill": {
     "duration": 0.01443,
     "end_time": "2022-12-08T06:08:19.193203",
     "exception": false,
     "start_time": "2022-12-08T06:08:19.178773",
     "status": "completed"
    },
    "tags": []
   },
   "source": [
    "**Top 10 juegos mejor valorados**"
   ]
  },
  {
   "cell_type": "code",
   "execution_count": 22,
   "id": "54143f5f",
   "metadata": {
    "execution": {
     "iopub.execute_input": "2022-12-08T06:08:19.224968Z",
     "iopub.status.busy": "2022-12-08T06:08:19.224169Z",
     "iopub.status.idle": "2022-12-08T06:08:19.230008Z",
     "shell.execute_reply": "2022-12-08T06:08:19.229192Z"
    },
    "id": "58Kru1pVGquj",
    "papermill": {
     "duration": 0.024033,
     "end_time": "2022-12-08T06:08:19.232043",
     "exception": false,
     "start_time": "2022-12-08T06:08:19.208010",
     "status": "completed"
    },
    "tags": []
   },
   "outputs": [],
   "source": [
    "score=juegos[[\"title\",\"score\"]]"
   ]
  },
  {
   "cell_type": "code",
   "execution_count": 23,
   "id": "bfa78210",
   "metadata": {
    "execution": {
     "iopub.execute_input": "2022-12-08T06:08:19.264206Z",
     "iopub.status.busy": "2022-12-08T06:08:19.263023Z",
     "iopub.status.idle": "2022-12-08T06:08:19.269333Z",
     "shell.execute_reply": "2022-12-08T06:08:19.268486Z"
    },
    "id": "0JItlKC7GUKy",
    "papermill": {
     "duration": 0.024795,
     "end_time": "2022-12-08T06:08:19.271612",
     "exception": false,
     "start_time": "2022-12-08T06:08:19.246817",
     "status": "completed"
    },
    "tags": []
   },
   "outputs": [],
   "source": [
    "score=score.sort_values(\"score\").tail(10)"
   ]
  },
  {
   "cell_type": "code",
   "execution_count": 24,
   "id": "ceb28262",
   "metadata": {
    "execution": {
     "iopub.execute_input": "2022-12-08T06:08:19.303602Z",
     "iopub.status.busy": "2022-12-08T06:08:19.302899Z",
     "iopub.status.idle": "2022-12-08T06:08:19.502912Z",
     "shell.execute_reply": "2022-12-08T06:08:19.501804Z"
    },
    "id": "TVulRf5wHLQx",
    "outputId": "45548c74-7e19-4eb6-877e-4bb7c6f9e7d9",
    "papermill": {
     "duration": 0.219253,
     "end_time": "2022-12-08T06:08:19.505701",
     "exception": false,
     "start_time": "2022-12-08T06:08:19.286448",
     "status": "completed"
    },
    "tags": []
   },
   "outputs": [
    {
     "data": {
      "image/png": "[encoded data removed]",
      "text/plain": [
       "<Figure size 864x576 with 1 Axes>"
      ]
     },
     "metadata": {
      "needs_background": "light"
     },
     "output_type": "display_data"
    }
   ],
   "source": [
    "fig, ax = plt.subplots(figsize=(12,8))\n",
    "\n",
    "normdata = colors.Normalize(min(score[\"score\"]), max(score[\"score\"]))\n",
    "colormap = cm.get_cmap(\"cool\")\n",
    "colores =colormap(normdata(score[\"score\"]))\n",
    "\n",
    "ax.barh(score[\"title\"], score[\"score\"],color=colores)\n",
    "ax.set_xlabel(\"Score\",fontdict = {'fontsize':14})\n",
    "ax.set_ylabel(\"Nombre del juego\",fontdict = {'fontsize':14})\n",
    "plt.show()"
   ]
  },
  {
   "cell_type": "markdown",
   "id": "40327354",
   "metadata": {
    "id": "bdNtBMs1-_hm",
    "papermill": {
     "duration": 0.015756,
     "end_time": "2022-12-08T06:08:19.536914",
     "exception": false,
     "start_time": "2022-12-08T06:08:19.521158",
     "status": "completed"
    },
    "tags": []
   },
   "source": [
    "## 3. ¿Cuántos juegos fueron lanzados en 2021 y en que año hubo más lanzamientos?"
   ]
  },
  {
   "cell_type": "code",
   "execution_count": 25,
   "id": "9c765ad0",
   "metadata": {
    "execution": {
     "iopub.execute_input": "2022-12-08T06:08:19.575879Z",
     "iopub.status.busy": "2022-12-08T06:08:19.575085Z",
     "iopub.status.idle": "2022-12-08T06:08:19.591438Z",
     "shell.execute_reply": "2022-12-08T06:08:19.590515Z"
    },
    "id": "5Drjz3e4_Uk3",
    "outputId": "17e6dc5e-769f-4af7-c96e-3aaf1e6bc4dc",
    "papermill": {
     "duration": 0.039471,
     "end_time": "2022-12-08T06:08:19.594527",
     "exception": false,
     "start_time": "2022-12-08T06:08:19.555056",
     "status": "completed"
    },
    "tags": []
   },
   "outputs": [
    {
     "data": {
      "text/html": [
       "<div>\n",
       "<style scoped>\n",
       "    .dataframe tbody tr th:only-of-type {\n",
       "        vertical-align: middle;\n",
       "    }\n",
       "\n",
       "    .dataframe tbody tr th {\n",
       "        vertical-align: top;\n",
       "    }\n",
       "\n",
       "    .dataframe thead th {\n",
       "        text-align: right;\n",
       "    }\n",
       "</style>\n",
       "<table border=\"1\" class=\"dataframe\">\n",
       "  <thead>\n",
       "    <tr style=\"text-align: right;\">\n",
       "      <th></th>\n",
       "      <th>released_year</th>\n",
       "      <th>total_released</th>\n",
       "    </tr>\n",
       "  </thead>\n",
       "  <tbody>\n",
       "    <tr>\n",
       "      <th>0</th>\n",
       "      <td>2011</td>\n",
       "      <td>1</td>\n",
       "    </tr>\n",
       "    <tr>\n",
       "      <th>1</th>\n",
       "      <td>2012</td>\n",
       "      <td>6</td>\n",
       "    </tr>\n",
       "    <tr>\n",
       "      <th>2</th>\n",
       "      <td>2013</td>\n",
       "      <td>7</td>\n",
       "    </tr>\n",
       "    <tr>\n",
       "      <th>3</th>\n",
       "      <td>2014</td>\n",
       "      <td>4</td>\n",
       "    </tr>\n",
       "    <tr>\n",
       "      <th>4</th>\n",
       "      <td>2015</td>\n",
       "      <td>7</td>\n",
       "    </tr>\n",
       "    <tr>\n",
       "      <th>5</th>\n",
       "      <td>2016</td>\n",
       "      <td>3</td>\n",
       "    </tr>\n",
       "    <tr>\n",
       "      <th>6</th>\n",
       "      <td>2017</td>\n",
       "      <td>7</td>\n",
       "    </tr>\n",
       "    <tr>\n",
       "      <th>7</th>\n",
       "      <td>2018</td>\n",
       "      <td>2</td>\n",
       "    </tr>\n",
       "    <tr>\n",
       "      <th>8</th>\n",
       "      <td>2019</td>\n",
       "      <td>1</td>\n",
       "    </tr>\n",
       "    <tr>\n",
       "      <th>9</th>\n",
       "      <td>2020</td>\n",
       "      <td>1</td>\n",
       "    </tr>\n",
       "    <tr>\n",
       "      <th>10</th>\n",
       "      <td>2021</td>\n",
       "      <td>1</td>\n",
       "    </tr>\n",
       "  </tbody>\n",
       "</table>\n",
       "</div>"
      ],
      "text/plain": [
       "    released_year  total_released\n",
       "0            2011               1\n",
       "1            2012               6\n",
       "2            2013               7\n",
       "3            2014               4\n",
       "4            2015               7\n",
       "5            2016               3\n",
       "6            2017               7\n",
       "7            2018               2\n",
       "8            2019               1\n",
       "9            2020               1\n",
       "10           2021               1"
      ]
     },
     "execution_count": 25,
     "metadata": {},
     "output_type": "execute_result"
    }
   ],
   "source": [
    "released=juegos[[\"released_year\",\"title\"]].groupby(\"released_year\").agg({\"title\":\"count\"}).rename(columns={\"title\":\"total_released\"})\n",
    "released.reset_index(inplace=True)\n",
    "released"
   ]
  },
  {
   "cell_type": "markdown",
   "id": "46cccca2",
   "metadata": {
    "id": "lPzo1FKDA4q_",
    "papermill": {
     "duration": 0.019743,
     "end_time": "2022-12-08T06:08:19.635846",
     "exception": false,
     "start_time": "2022-12-08T06:08:19.616103",
     "status": "completed"
    },
    "tags": []
   },
   "source": [
    "*  Vemos que en el año 2021 solo lanzaron 1 juego.\n",
    "*   Los años en donde se lanzaron más juegos fueron en el 2013, 2015 y 2017."
   ]
  },
  {
   "cell_type": "markdown",
   "id": "3bf6a882",
   "metadata": {
    "id": "KOMsdZdgsh7L",
    "papermill": {
     "duration": 0.015497,
     "end_time": "2022-12-08T06:08:19.671370",
     "exception": false,
     "start_time": "2022-12-08T06:08:19.655873",
     "status": "completed"
    },
    "tags": []
   },
   "source": [
    "**Cantidad de juegos lanzados por año**"
   ]
  },
  {
   "cell_type": "code",
   "execution_count": 26,
   "id": "dec099cd",
   "metadata": {
    "execution": {
     "iopub.execute_input": "2022-12-08T06:08:19.704900Z",
     "iopub.status.busy": "2022-12-08T06:08:19.704240Z",
     "iopub.status.idle": "2022-12-08T06:08:19.866189Z",
     "shell.execute_reply": "2022-12-08T06:08:19.864863Z"
    },
    "id": "qapYp8BrsvuE",
    "outputId": "e17192b6-9b75-4343-b375-70037cda96e9",
    "papermill": {
     "duration": 0.181302,
     "end_time": "2022-12-08T06:08:19.868798",
     "exception": false,
     "start_time": "2022-12-08T06:08:19.687496",
     "status": "completed"
    },
    "tags": []
   },
   "outputs": [
    {
     "data": {
      "image/png": "[encoded data removed]",
      "text/plain": [
       "<Figure size 864x576 with 1 Axes>"
      ]
     },
     "metadata": {
      "needs_background": "light"
     },
     "output_type": "display_data"
    }
   ],
   "source": [
    "fig, ax = plt.subplots(figsize=(12, 8))\n",
    "ax.plot(released[\"released_year\"], released[\"total_released\"],color=\"crimson\")\n",
    "ax.set_title(\"Lanzamientos x año\",fontdict = {'fontsize':14})\n",
    "ax.set_xlabel(\"Año de lanzamiento\",fontdict = {'fontsize':14})\n",
    "\n",
    "plt.show()"
   ]
  },
  {
   "cell_type": "markdown",
   "id": "a0e474be",
   "metadata": {
    "id": "zl7AA22XM-0P",
    "papermill": {
     "duration": 0.016438,
     "end_time": "2022-12-08T06:08:19.901860",
     "exception": false,
     "start_time": "2022-12-08T06:08:19.885422",
     "status": "completed"
    },
    "tags": []
   },
   "source": [
    "## 4. ¿Qué genero es el más instalado?"
   ]
  },
  {
   "cell_type": "code",
   "execution_count": 27,
   "id": "ee615f8f",
   "metadata": {
    "execution": {
     "iopub.execute_input": "2022-12-08T06:08:19.937109Z",
     "iopub.status.busy": "2022-12-08T06:08:19.936268Z",
     "iopub.status.idle": "2022-12-08T06:08:19.958349Z",
     "shell.execute_reply": "2022-12-08T06:08:19.957082Z"
    },
    "id": "qP09uDlKNSnU",
    "outputId": "33a4d910-884a-4cb6-c606-33e895872b3b",
    "papermill": {
     "duration": 0.043022,
     "end_time": "2022-12-08T06:08:19.961174",
     "exception": false,
     "start_time": "2022-12-08T06:08:19.918152",
     "status": "completed"
    },
    "tags": []
   },
   "outputs": [
    {
     "data": {
      "text/html": [
       "<div>\n",
       "<style scoped>\n",
       "    .dataframe tbody tr th:only-of-type {\n",
       "        vertical-align: middle;\n",
       "    }\n",
       "\n",
       "    .dataframe tbody tr th {\n",
       "        vertical-align: top;\n",
       "    }\n",
       "\n",
       "    .dataframe thead th {\n",
       "        text-align: right;\n",
       "    }\n",
       "</style>\n",
       "<table border=\"1\" class=\"dataframe\">\n",
       "  <thead>\n",
       "    <tr style=\"text-align: right;\">\n",
       "      <th></th>\n",
       "      <th>genreId</th>\n",
       "      <th>total_installs</th>\n",
       "    </tr>\n",
       "  </thead>\n",
       "  <tbody>\n",
       "    <tr>\n",
       "      <th>3</th>\n",
       "      <td>CASUAL</td>\n",
       "      <td>630000000</td>\n",
       "    </tr>\n",
       "    <tr>\n",
       "      <th>0</th>\n",
       "      <td>ACTION</td>\n",
       "      <td>346000000</td>\n",
       "    </tr>\n",
       "    <tr>\n",
       "      <th>5</th>\n",
       "      <td>RACING</td>\n",
       "      <td>260000000</td>\n",
       "    </tr>\n",
       "    <tr>\n",
       "      <th>1</th>\n",
       "      <td>ADVENTURE</td>\n",
       "      <td>150000000</td>\n",
       "    </tr>\n",
       "    <tr>\n",
       "      <th>7</th>\n",
       "      <td>SIMULATION</td>\n",
       "      <td>60000000</td>\n",
       "    </tr>\n",
       "    <tr>\n",
       "      <th>8</th>\n",
       "      <td>SPORTS</td>\n",
       "      <td>50000000</td>\n",
       "    </tr>\n",
       "    <tr>\n",
       "      <th>6</th>\n",
       "      <td>ROLE_PLAYING</td>\n",
       "      <td>46500000</td>\n",
       "    </tr>\n",
       "    <tr>\n",
       "      <th>9</th>\n",
       "      <td>STRATEGY</td>\n",
       "      <td>45000000</td>\n",
       "    </tr>\n",
       "    <tr>\n",
       "      <th>2</th>\n",
       "      <td>ARCADE</td>\n",
       "      <td>15000000</td>\n",
       "    </tr>\n",
       "    <tr>\n",
       "      <th>4</th>\n",
       "      <td>PUZZLE</td>\n",
       "      <td>5000000</td>\n",
       "    </tr>\n",
       "  </tbody>\n",
       "</table>\n",
       "</div>"
      ],
      "text/plain": [
       "        genreId  total_installs\n",
       "3        CASUAL       630000000\n",
       "0        ACTION       346000000\n",
       "5        RACING       260000000\n",
       "1     ADVENTURE       150000000\n",
       "7    SIMULATION        60000000\n",
       "8        SPORTS        50000000\n",
       "6  ROLE_PLAYING        46500000\n",
       "9      STRATEGY        45000000\n",
       "2        ARCADE        15000000\n",
       "4        PUZZLE         5000000"
      ]
     },
     "execution_count": 27,
     "metadata": {},
     "output_type": "execute_result"
    }
   ],
   "source": [
    "genero=juegos[[\"genreId\",\"installs\"]].groupby(\"genreId\").agg({\"installs\":\"sum\"}).rename(columns={\"installs\":\"total_installs\"})\n",
    "genero.reset_index(inplace=True)\n",
    "genero=genero.sort_values(\"total_installs\",ascending=False)\n",
    "genero"
   ]
  },
  {
   "cell_type": "markdown",
   "id": "c845fb39",
   "metadata": {
    "id": "IDtklkb0NnwI",
    "papermill": {
     "duration": 0.019792,
     "end_time": "2022-12-08T06:08:19.999812",
     "exception": false,
     "start_time": "2022-12-08T06:08:19.980020",
     "status": "completed"
    },
    "tags": []
   },
   "source": [
    "*   Vemos que el género con mayor número de instalaciones es *CASUAL*"
   ]
  },
  {
   "cell_type": "markdown",
   "id": "41697ac0",
   "metadata": {
    "id": "W6yR9BzANwIl",
    "papermill": {
     "duration": 0.016794,
     "end_time": "2022-12-08T06:08:20.033889",
     "exception": false,
     "start_time": "2022-12-08T06:08:20.017095",
     "status": "completed"
    },
    "tags": []
   },
   "source": [
    "Ahora veamos estos datos en un diagrama de barras vertical."
   ]
  },
  {
   "cell_type": "markdown",
   "id": "1831ac42",
   "metadata": {
    "id": "OpRiSBkAOFlo",
    "papermill": {
     "duration": 0.019172,
     "end_time": "2022-12-08T06:08:20.074623",
     "exception": false,
     "start_time": "2022-12-08T06:08:20.055451",
     "status": "completed"
    },
    "tags": []
   },
   "source": [
    "**Diagrama barras - género**"
   ]
  },
  {
   "cell_type": "code",
   "execution_count": 28,
   "id": "fed78ec7",
   "metadata": {
    "execution": {
     "iopub.execute_input": "2022-12-08T06:08:20.111529Z",
     "iopub.status.busy": "2022-12-08T06:08:20.110747Z",
     "iopub.status.idle": "2022-12-08T06:08:20.347941Z",
     "shell.execute_reply": "2022-12-08T06:08:20.346121Z"
    },
    "id": "7nn9V-7sOSVr",
    "outputId": "4f6cb6e0-688f-46bd-f55f-331cf8e93b5a",
    "papermill": {
     "duration": 0.258524,
     "end_time": "2022-12-08T06:08:20.351022",
     "exception": false,
     "start_time": "2022-12-08T06:08:20.092498",
     "status": "completed"
    },
    "tags": []
   },
   "outputs": [
    {
     "data": {
      "image/png": "[encoded data removed]",
      "text/plain": [
       "<Figure size 1152x576 with 1 Axes>"
      ]
     },
     "metadata": {
      "needs_background": "light"
     },
     "output_type": "display_data"
    }
   ],
   "source": [
    "fig, ax = plt.subplots(figsize=(16,8))\n",
    "normdata = colors.Normalize(min(genero[\"total_installs\"]), max(genero[\"total_installs\"]))\n",
    "colormap = cm.get_cmap(\"plasma\")\n",
    "colores =colormap(normdata(genero[\"total_installs\"]))\n",
    "\n",
    "ax.bar(genero[\"genreId\"],genero[\"total_installs\"],color=colores)\n",
    "ax.set_xlabel(\"Género\", fontdict={'fontsize':14})\n",
    "ax.set_ylabel(\"Total de intalaciones\", fontdict={'fontsize':14})\n",
    "plt.show()"
   ]
  },
  {
   "cell_type": "markdown",
   "id": "b08775d8",
   "metadata": {
    "id": "zHTg1l2bJMd5",
    "papermill": {
     "duration": 0.018216,
     "end_time": "2022-12-08T06:08:20.388609",
     "exception": false,
     "start_time": "2022-12-08T06:08:20.370393",
     "status": "completed"
    },
    "tags": []
   },
   "source": [
    "## 5. ¿Qué nivel de clasificación es el más instalado?"
   ]
  },
  {
   "cell_type": "code",
   "execution_count": 29,
   "id": "2eb586e0",
   "metadata": {
    "execution": {
     "iopub.execute_input": "2022-12-08T06:08:20.425416Z",
     "iopub.status.busy": "2022-12-08T06:08:20.424577Z",
     "iopub.status.idle": "2022-12-08T06:08:20.444609Z",
     "shell.execute_reply": "2022-12-08T06:08:20.443461Z"
    },
    "id": "2H1zg6Q-KHHq",
    "outputId": "94e23f16-64b2-49e9-c166-e68984061a9d",
    "papermill": {
     "duration": 0.041162,
     "end_time": "2022-12-08T06:08:20.447097",
     "exception": false,
     "start_time": "2022-12-08T06:08:20.405935",
     "status": "completed"
    },
    "tags": []
   },
   "outputs": [
    {
     "data": {
      "text/html": [
       "<div>\n",
       "<style scoped>\n",
       "    .dataframe tbody tr th:only-of-type {\n",
       "        vertical-align: middle;\n",
       "    }\n",
       "\n",
       "    .dataframe tbody tr th {\n",
       "        vertical-align: top;\n",
       "    }\n",
       "\n",
       "    .dataframe thead th {\n",
       "        text-align: right;\n",
       "    }\n",
       "</style>\n",
       "<table border=\"1\" class=\"dataframe\">\n",
       "  <thead>\n",
       "    <tr style=\"text-align: right;\">\n",
       "      <th></th>\n",
       "      <th>contentRating</th>\n",
       "      <th>total_installs</th>\n",
       "    </tr>\n",
       "  </thead>\n",
       "  <tbody>\n",
       "    <tr>\n",
       "      <th>1</th>\n",
       "      <td>Everyone 10+</td>\n",
       "      <td>835000000</td>\n",
       "    </tr>\n",
       "    <tr>\n",
       "      <th>0</th>\n",
       "      <td>Everyone</td>\n",
       "      <td>406000000</td>\n",
       "    </tr>\n",
       "    <tr>\n",
       "      <th>2</th>\n",
       "      <td>Mature 17+</td>\n",
       "      <td>280000000</td>\n",
       "    </tr>\n",
       "    <tr>\n",
       "      <th>3</th>\n",
       "      <td>Teen</td>\n",
       "      <td>86500000</td>\n",
       "    </tr>\n",
       "  </tbody>\n",
       "</table>\n",
       "</div>"
      ],
      "text/plain": [
       "  contentRating  total_installs\n",
       "1  Everyone 10+       835000000\n",
       "0      Everyone       406000000\n",
       "2    Mature 17+       280000000\n",
       "3          Teen        86500000"
      ]
     },
     "execution_count": 29,
     "metadata": {},
     "output_type": "execute_result"
    }
   ],
   "source": [
    "clasificacion=juegos[[\"contentRating\",\"installs\"]].groupby(\"contentRating\").agg({\"installs\":\"sum\"}).rename(columns={\"installs\":\"total_installs\"})\n",
    "clasificacion.reset_index(inplace=True)\n",
    "clasificacion=clasificacion.sort_values(\"total_installs\",ascending=False)\n",
    "clasificacion"
   ]
  },
  {
   "cell_type": "markdown",
   "id": "90140366",
   "metadata": {
    "id": "1NrNnyGZLab9",
    "papermill": {
     "duration": 0.016586,
     "end_time": "2022-12-08T06:08:20.480827",
     "exception": false,
     "start_time": "2022-12-08T06:08:20.464241",
     "status": "completed"
    },
    "tags": []
   },
   "source": [
    "* Observamos que la clasifición más descargas es *Everyone 10+* con un total de 835 millones."
   ]
  },
  {
   "cell_type": "markdown",
   "id": "f77b7027",
   "metadata": {
    "id": "WaWK8M1NLomV",
    "papermill": {
     "duration": 0.016563,
     "end_time": "2022-12-08T06:08:20.514242",
     "exception": false,
     "start_time": "2022-12-08T06:08:20.497679",
     "status": "completed"
    },
    "tags": []
   },
   "source": [
    "Ahora veamos un diagrama circular con los porcentajes respectivos de cada clasificación de contenido"
   ]
  },
  {
   "cell_type": "markdown",
   "id": "96041e5d",
   "metadata": {
    "id": "85X2xvNlt1C_",
    "papermill": {
     "duration": 0.016812,
     "end_time": "2022-12-08T06:08:20.548080",
     "exception": false,
     "start_time": "2022-12-08T06:08:20.531268",
     "status": "completed"
    },
    "tags": []
   },
   "source": [
    "**Diagrama circular-clasificación de contenido**"
   ]
  },
  {
   "cell_type": "code",
   "execution_count": 30,
   "id": "1dda8c27",
   "metadata": {
    "execution": {
     "iopub.execute_input": "2022-12-08T06:08:20.585244Z",
     "iopub.status.busy": "2022-12-08T06:08:20.584130Z",
     "iopub.status.idle": "2022-12-08T06:08:20.741035Z",
     "shell.execute_reply": "2022-12-08T06:08:20.739656Z"
    },
    "id": "36hErxWDt1U9",
    "outputId": "18826169-30e2-49da-850a-0b59e579a3da",
    "papermill": {
     "duration": 0.178619,
     "end_time": "2022-12-08T06:08:20.744500",
     "exception": false,
     "start_time": "2022-12-08T06:08:20.565881",
     "status": "completed"
    },
    "tags": []
   },
   "outputs": [
    {
     "data": {
      "image/png": "[encoded data removed]",
      "text/plain": [
       "<Figure size 864x576 with 1 Axes>"
      ]
     },
     "metadata": {},
     "output_type": "display_data"
    }
   ],
   "source": [
    "\n",
    "\n",
    "normdata = colors.Normalize(min(clasificacion[\"total_installs\"]), max(clasificacion[\"total_installs\"]))\n",
    "colormap = cm.get_cmap(\"Blues\")\n",
    "colores =colormap(normdata(clasificacion[\"total_installs\"]))\n",
    "\n",
    "fig, ax = plt.subplots(figsize=(12,8))\n",
    "ax.pie(clasificacion[\"total_installs\"], labels=clasificacion[\"contentRating\"],autopct=\"%0.1f %%\",colors=colores)\n",
    "ax.set_title(\"Diagrama circular - clasificación de contenido\", fontdict={'fontsize':14})\n",
    "plt.show()\n"
   ]
  }
 ],
 "metadata": {
  "kernelspec": {
   "display_name": "Python 3",
   "language": "python",
   "name": "python3"
  },
  "language_info": {
   "codemirror_mode": {
    "name": "ipython",
    "version": 3
   },
   "file_extension": ".py",
   "mimetype": "text/x-python",
   "name": "python",
   "nbconvert_exporter": "python",
   "pygments_lexer": "ipython3",
   "version": "3.7.12"
  },
  "papermill": {
   "default_parameters": {},
   "duration": 15.147612,
   "end_time": "2022-12-08T06:08:23.568162",
   "environment_variables": {},
   "exception": null,
   "input_path": "__notebook__.ipynb",
   "output_path": "__notebook__.ipynb",
   "parameters": {},
   "start_time": "2022-12-08T06:08:08.420550",
   "version": "2.3.4"
  }
 },
 "nbformat": 4,
 "nbformat_minor": 5
}
